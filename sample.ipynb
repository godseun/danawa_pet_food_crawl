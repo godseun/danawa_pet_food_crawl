{
 "metadata": {
  "language_info": {
   "codemirror_mode": {
    "name": "ipython",
    "version": 3
   },
   "file_extension": ".py",
   "mimetype": "text/x-python",
   "name": "python",
   "nbconvert_exporter": "python",
   "pygments_lexer": "ipython3",
   "version": "3.8.8-final"
  },
  "orig_nbformat": 2,
  "kernelspec": {
   "name": "python3",
   "display_name": "Python 3.8.8 64-bit",
   "metadata": {
    "interpreter": {
     "hash": "57845ac6100c70202c6bdf8154370f5c92ad65b65d8ea5039294bd4b6604693a"
    }
   }
  }
 },
 "nbformat": 4,
 "nbformat_minor": 2,
 "cells": [
  {
   "cell_type": "code",
   "execution_count": 1,
   "metadata": {},
   "outputs": [],
   "source": [
    "import time, json\n",
    "from selenium import webdriver\n",
    "from db_conn import push_prod_data, push_prod_data2\n",
    "# 강아지   ,  고양이   , 먹거리\n",
    "# 19238134 , 19223561 , 19227166\n",
    "category_no = '19223561'\n",
    "driver = webdriver.Chrome('chromedriver')\n",
    "driver.implicitly_wait(2)\n",
    "driver.get(f'http://prod.danawa.com/list/?cate={category_no}')\n",
    "time.sleep(1)\n",
    "driver.find_element_by_css_selector('#productListArea > div.prod_list_opts > div.view_opt > div.view_item.view_qnt > select > option[value=\"90\"]').click()\n",
    "time.sleep(1)\n",
    "\n",
    "def next_page():\n",
    "    next_page = driver.find_element_by_css_selector('.now_on').text\n",
    "    next_page = int(next_page) + 1\n",
    "    try:\n",
    "        driver.find_element_by_css_selector(f'[onclick^=\"javascript:movePage({next_page}\"]').click()\n",
    "        time.sleep(1)\n",
    "    except Exception as e:\n",
    "        try:\n",
    "            driver.find_element_by_css_selector('.nav_next').click()\n",
    "            time.sleep(1)\n",
    "        except:\n",
    "            return True\n",
    "    return False\n",
    "\n",
    "def start():\n",
    "    time.sleep(1)\n",
    "    cnt = 0\n",
    "    for ele in driver.find_elements_by_css_selector('li[id^=\"productItem\"]'):\n",
    "        # cnt += 1\n",
    "        # if cnt == 2:\n",
    "        #     break\n",
    "        pcode = ele.get_attribute('id')\n",
    "        pcode = pcode.replace('productItem', '')\n",
    "        try:\n",
    "            ele.find_element_by_css_selector('.more_prod_pricelist a').click()\n",
    "        except:\n",
    "            pass\n",
    "\n",
    "        href = ele.find_element_by_css_selector('[name=\"productName\"]').get_attribute('href')\n",
    "        thumb = ele.find_element_by_css_selector('.thumb_link').get_attribute('href')\n",
    "        prod_name = ele.find_element_by_css_selector('[name=\"productName\"]').text\n",
    "        prod_name = prod_name.replace(\"'\", \"\")\n",
    "        desc = ele.find_element_by_css_selector('.spec_list').text\n",
    "\n",
    "        push_prod_data({\n",
    "            'pcode': pcode,\n",
    "            'thumb': thumb,\n",
    "            'prod_name': prod_name,\n",
    "            'desc': desc,\n",
    "            'href': href\n",
    "        })\n",
    "\n",
    "        for prod_detail in ele.find_elements_by_css_selector('li[id^=\"productInfoDetail\"]'):\n",
    "            price = prod_detail.find_element_by_css_selector('p.price_sect a strong').text\n",
    "            detail_href = prod_detail.find_element_by_css_selector('p.price_sect a').get_attribute('href')\n",
    "            detail_pcode = detail_href.split('&')\n",
    "            detail_pcode = detail_pcode[0].split('pcode=')\n",
    "            detail_desc = prod_detail.find_element_by_css_selector('.memory_sect').text\n",
    "\n",
    "            sp = detail_desc.split('\\n')\n",
    "            \n",
    "            ext2 = ''\n",
    "            if len(sp) > 1:\n",
    "                ext2 = sp[1]\n",
    "                \n",
    "            ext1 = sp[0]\n",
    "            if '1위' in ext1:\n",
    "                ext1 = ext1.replace('1위 ', '')\n",
    "            elif '2위' in ext1:\n",
    "                ext1 = ext1.replace('2위 ', '')\n",
    "            elif '원' in ext1:\n",
    "                ext3 = ext1\n",
    "                ext1 = ext2\n",
    "                ext2 = ext3\n",
    "\n",
    "            \n",
    "            push_prod_data2({\n",
    "                'parent_pcode': pcode,\n",
    "                'pcode': detail_pcode[1],\n",
    "                'price': price,\n",
    "                'href': detail_href,\n",
    "                'ext1': ext1,\n",
    "                'ext2': ext2,\n",
    "            })"
   ]
  },
  {
   "cell_type": "code",
   "execution_count": null,
   "metadata": {},
   "outputs": [],
   "source": [
    "driver.find_element_by_css_selector('#productListArea > div.prod_list_opts > div.view_opt > div.view_item.view_qnt > select > option[value=\"30\"]').click()"
   ]
  },
  {
   "cell_type": "code",
   "execution_count": null,
   "metadata": {},
   "outputs": [],
   "source": [
    "driver.find_element_by_css_selector('#searchBrandRep20188').click()"
   ]
  },
  {
   "cell_type": "code",
   "execution_count": null,
   "metadata": {},
   "outputs": [],
   "source": [
    "t_cnt = driver.find_element_by_id('totalProductCount').get_attribute('value')  # 총 상품개수"
   ]
  },
  {
   "cell_type": "code",
   "execution_count": 2,
   "metadata": {
    "tags": []
   },
   "outputs": [
    {
     "output_type": "stream",
     "name": "stdout",
     "text": [
      "1\n",
      "2\n",
      "3\n",
      "4\n",
      "5\n",
      "6\n",
      "7\n",
      "8\n",
      "9\n",
      "10\n",
      "11\n",
      "12\n"
     ]
    }
   ],
   "source": [
    "COUNT = 0\n",
    "while True:\n",
    "    COUNT += 1\n",
    "    start()\n",
    "    print(COUNT)\n",
    "    if next_page():\n",
    "        break\n"
   ]
  },
  {
   "cell_type": "code",
   "execution_count": 3,
   "metadata": {},
   "outputs": [],
   "source": [
    "driver.quit()"
   ]
  }
 ]
}